{
 "cells": [
  {
   "cell_type": "code",
   "execution_count": 2,
   "id": "3a9a3301",
   "metadata": {},
   "outputs": [],
   "source": [
    "import pandas as pd\n",
    "import numpy as np\n"
   ]
  },
  {
   "cell_type": "code",
   "execution_count": 3,
   "id": "b5e6d6e6",
   "metadata": {},
   "outputs": [],
   "source": [
    "# Define column names for CMAPSS dataset\n",
    "col_names = [\"engine_id\", \"cycle\", \"op_setting_1\", \"op_setting_2\", \"op_setting_3\"] \\\n",
    "            + [f\"s{i}\" for i in range(1, 22)]\n"
   ]
  },
  {
   "cell_type": "code",
   "execution_count": 4,
   "id": "ff2f67d9",
   "metadata": {},
   "outputs": [
    {
     "name": "stderr",
     "output_type": "stream",
     "text": [
      "C:\\Users\\Thila\\AppData\\Local\\Temp\\ipykernel_17652\\3919849352.py:5: FutureWarning: The provided callable <built-in function max> is currently using SeriesGroupBy.max. In a future version of pandas, the provided callable will be used directly. To keep current behavior pass the string \"max\" instead.\n",
      "  train[\"RUL\"] = train.groupby(\"engine_id\")[\"cycle\"].transform(max) - train[\"cycle\"]\n"
     ]
    },
    {
     "name": "stdout",
     "output_type": "stream",
     "text": [
      "Train data saved successfully!\n"
     ]
    }
   ],
   "source": [
    "train = pd.read_csv(r\"C:\\infosys_project\\archive (3)\\CMaps\\train_FD001.txt\", \n",
    "                    sep=r\"\\s+\", header=None, names=col_names)\n",
    "\n",
    "# Optional: compute RUL for train data\n",
    "train[\"RUL\"] = train.groupby(\"engine_id\")[\"cycle\"].transform(max) - train[\"cycle\"]\n",
    "\n",
    "# Save cleaned CSV (choose a safe folder)\n",
    "train.to_csv(r\"C:\\infosys_project\\train_FD001.csv\", index=False)\n",
    "print(\"Train data saved successfully!\")\n"
   ]
  },
  {
   "cell_type": "code",
   "execution_count": 5,
   "id": "9d4f37f6",
   "metadata": {},
   "outputs": [
    {
     "name": "stdout",
     "output_type": "stream",
     "text": [
      "Test data saved successfully!\n"
     ]
    }
   ],
   "source": [
    "test = pd.read_csv(r\"C:\\infosys_project\\archive (3)\\CMaps\\test_FD001.txt\", \n",
    "                   sep=r\"\\s+\", header=None, names=col_names)\n",
    "\n",
    "# Save cleaned CSV\n",
    "test.to_csv(r\"C:\\infosys_project\\test_FD001.csv\", index=False)\n",
    "print(\"Test data saved successfully!\")\n"
   ]
  },
  {
   "cell_type": "code",
   "execution_count": 6,
   "id": "2c9ed825",
   "metadata": {},
   "outputs": [
    {
     "name": "stdout",
     "output_type": "stream",
     "text": [
      "RUL data saved successfully!\n"
     ]
    }
   ],
   "source": [
    "rul = pd.read_csv(r\"C:\\infosys_project\\archive (3)\\CMaps\\RUL_FD001.txt\", \n",
    "                  header=None, names=[\"RUL\"])\n",
    "\n",
    "# Save CSV\n",
    "rul.to_csv(r\"C:\\infosys_project\\RUL_FD001.csv\", index=False)\n",
    "print(\"RUL data saved successfully!\")\n"
   ]
  },
  {
   "cell_type": "code",
   "execution_count": 7,
   "id": "7ab8e783",
   "metadata": {},
   "outputs": [
    {
     "name": "stdout",
     "output_type": "stream",
     "text": [
      "Missing values in train:\n",
      " engine_id       0\n",
      "cycle           0\n",
      "op_setting_1    0\n",
      "op_setting_2    0\n",
      "op_setting_3    0\n",
      "s1              0\n",
      "s2              0\n",
      "s3              0\n",
      "s4              0\n",
      "s5              0\n",
      "s6              0\n",
      "s7              0\n",
      "s8              0\n",
      "s9              0\n",
      "s10             0\n",
      "s11             0\n",
      "s12             0\n",
      "s13             0\n",
      "s14             0\n",
      "s15             0\n",
      "s16             0\n",
      "s17             0\n",
      "s18             0\n",
      "s19             0\n",
      "s20             0\n",
      "s21             0\n",
      "RUL             0\n",
      "dtype: int64\n",
      "Missing values in test:\n",
      " engine_id       0\n",
      "cycle           0\n",
      "op_setting_1    0\n",
      "op_setting_2    0\n",
      "op_setting_3    0\n",
      "s1              0\n",
      "s2              0\n",
      "s3              0\n",
      "s4              0\n",
      "s5              0\n",
      "s6              0\n",
      "s7              0\n",
      "s8              0\n",
      "s9              0\n",
      "s10             0\n",
      "s11             0\n",
      "s12             0\n",
      "s13             0\n",
      "s14             0\n",
      "s15             0\n",
      "s16             0\n",
      "s17             0\n",
      "s18             0\n",
      "s19             0\n",
      "s20             0\n",
      "s21             0\n",
      "dtype: int64\n"
     ]
    }
   ],
   "source": [
    "# Check for missing values\n",
    "print(\"Missing values in train:\\n\", train.isnull().sum())\n",
    "print(\"Missing values in test:\\n\", test.isnull().sum())\n",
    "\n",
    "# Drop duplicates if any\n",
    "train.drop_duplicates(inplace=True)\n",
    "test.drop_duplicates(inplace=True)\n"
   ]
  },
  {
   "cell_type": "code",
   "execution_count": 8,
   "id": "3ab4f71b",
   "metadata": {},
   "outputs": [
    {
     "name": "stderr",
     "output_type": "stream",
     "text": [
      "C:\\Users\\Thila\\AppData\\Local\\Temp\\ipykernel_17652\\3174045594.py:2: FutureWarning: The provided callable <built-in function max> is currently using SeriesGroupBy.max. In a future version of pandas, the provided callable will be used directly. To keep current behavior pass the string \"max\" instead.\n",
      "  rul_train = train.groupby(\"engine_id\")[\"cycle\"].transform(max) - train[\"cycle\"]\n"
     ]
    },
    {
     "data": {
      "text/html": [
       "<div>\n",
       "<style scoped>\n",
       "    .dataframe tbody tr th:only-of-type {\n",
       "        vertical-align: middle;\n",
       "    }\n",
       "\n",
       "    .dataframe tbody tr th {\n",
       "        vertical-align: top;\n",
       "    }\n",
       "\n",
       "    .dataframe thead th {\n",
       "        text-align: right;\n",
       "    }\n",
       "</style>\n",
       "<table border=\"1\" class=\"dataframe\">\n",
       "  <thead>\n",
       "    <tr style=\"text-align: right;\">\n",
       "      <th></th>\n",
       "      <th>engine_id</th>\n",
       "      <th>cycle</th>\n",
       "      <th>op_setting_1</th>\n",
       "      <th>op_setting_2</th>\n",
       "      <th>op_setting_3</th>\n",
       "      <th>s1</th>\n",
       "      <th>s2</th>\n",
       "      <th>s3</th>\n",
       "      <th>s4</th>\n",
       "      <th>s5</th>\n",
       "      <th>...</th>\n",
       "      <th>s13</th>\n",
       "      <th>s14</th>\n",
       "      <th>s15</th>\n",
       "      <th>s16</th>\n",
       "      <th>s17</th>\n",
       "      <th>s18</th>\n",
       "      <th>s19</th>\n",
       "      <th>s20</th>\n",
       "      <th>s21</th>\n",
       "      <th>RUL</th>\n",
       "    </tr>\n",
       "  </thead>\n",
       "  <tbody>\n",
       "    <tr>\n",
       "      <th>0</th>\n",
       "      <td>1</td>\n",
       "      <td>1</td>\n",
       "      <td>-0.0007</td>\n",
       "      <td>-0.0004</td>\n",
       "      <td>100.0</td>\n",
       "      <td>518.67</td>\n",
       "      <td>641.82</td>\n",
       "      <td>1589.70</td>\n",
       "      <td>1400.60</td>\n",
       "      <td>14.62</td>\n",
       "      <td>...</td>\n",
       "      <td>2388.02</td>\n",
       "      <td>8138.62</td>\n",
       "      <td>8.4195</td>\n",
       "      <td>0.03</td>\n",
       "      <td>392</td>\n",
       "      <td>2388</td>\n",
       "      <td>100.0</td>\n",
       "      <td>39.06</td>\n",
       "      <td>23.4190</td>\n",
       "      <td>191</td>\n",
       "    </tr>\n",
       "    <tr>\n",
       "      <th>1</th>\n",
       "      <td>1</td>\n",
       "      <td>2</td>\n",
       "      <td>0.0019</td>\n",
       "      <td>-0.0003</td>\n",
       "      <td>100.0</td>\n",
       "      <td>518.67</td>\n",
       "      <td>642.15</td>\n",
       "      <td>1591.82</td>\n",
       "      <td>1403.14</td>\n",
       "      <td>14.62</td>\n",
       "      <td>...</td>\n",
       "      <td>2388.07</td>\n",
       "      <td>8131.49</td>\n",
       "      <td>8.4318</td>\n",
       "      <td>0.03</td>\n",
       "      <td>392</td>\n",
       "      <td>2388</td>\n",
       "      <td>100.0</td>\n",
       "      <td>39.00</td>\n",
       "      <td>23.4236</td>\n",
       "      <td>190</td>\n",
       "    </tr>\n",
       "    <tr>\n",
       "      <th>2</th>\n",
       "      <td>1</td>\n",
       "      <td>3</td>\n",
       "      <td>-0.0043</td>\n",
       "      <td>0.0003</td>\n",
       "      <td>100.0</td>\n",
       "      <td>518.67</td>\n",
       "      <td>642.35</td>\n",
       "      <td>1587.99</td>\n",
       "      <td>1404.20</td>\n",
       "      <td>14.62</td>\n",
       "      <td>...</td>\n",
       "      <td>2388.03</td>\n",
       "      <td>8133.23</td>\n",
       "      <td>8.4178</td>\n",
       "      <td>0.03</td>\n",
       "      <td>390</td>\n",
       "      <td>2388</td>\n",
       "      <td>100.0</td>\n",
       "      <td>38.95</td>\n",
       "      <td>23.3442</td>\n",
       "      <td>189</td>\n",
       "    </tr>\n",
       "    <tr>\n",
       "      <th>3</th>\n",
       "      <td>1</td>\n",
       "      <td>4</td>\n",
       "      <td>0.0007</td>\n",
       "      <td>0.0000</td>\n",
       "      <td>100.0</td>\n",
       "      <td>518.67</td>\n",
       "      <td>642.35</td>\n",
       "      <td>1582.79</td>\n",
       "      <td>1401.87</td>\n",
       "      <td>14.62</td>\n",
       "      <td>...</td>\n",
       "      <td>2388.08</td>\n",
       "      <td>8133.83</td>\n",
       "      <td>8.3682</td>\n",
       "      <td>0.03</td>\n",
       "      <td>392</td>\n",
       "      <td>2388</td>\n",
       "      <td>100.0</td>\n",
       "      <td>38.88</td>\n",
       "      <td>23.3739</td>\n",
       "      <td>188</td>\n",
       "    </tr>\n",
       "    <tr>\n",
       "      <th>4</th>\n",
       "      <td>1</td>\n",
       "      <td>5</td>\n",
       "      <td>-0.0019</td>\n",
       "      <td>-0.0002</td>\n",
       "      <td>100.0</td>\n",
       "      <td>518.67</td>\n",
       "      <td>642.37</td>\n",
       "      <td>1582.85</td>\n",
       "      <td>1406.22</td>\n",
       "      <td>14.62</td>\n",
       "      <td>...</td>\n",
       "      <td>2388.04</td>\n",
       "      <td>8133.80</td>\n",
       "      <td>8.4294</td>\n",
       "      <td>0.03</td>\n",
       "      <td>393</td>\n",
       "      <td>2388</td>\n",
       "      <td>100.0</td>\n",
       "      <td>38.90</td>\n",
       "      <td>23.4044</td>\n",
       "      <td>187</td>\n",
       "    </tr>\n",
       "  </tbody>\n",
       "</table>\n",
       "<p>5 rows × 27 columns</p>\n",
       "</div>"
      ],
      "text/plain": [
       "   engine_id  cycle  op_setting_1  op_setting_2  op_setting_3      s1      s2  \\\n",
       "0          1      1       -0.0007       -0.0004         100.0  518.67  641.82   \n",
       "1          1      2        0.0019       -0.0003         100.0  518.67  642.15   \n",
       "2          1      3       -0.0043        0.0003         100.0  518.67  642.35   \n",
       "3          1      4        0.0007        0.0000         100.0  518.67  642.35   \n",
       "4          1      5       -0.0019       -0.0002         100.0  518.67  642.37   \n",
       "\n",
       "        s3       s4     s5  ...      s13      s14     s15   s16  s17   s18  \\\n",
       "0  1589.70  1400.60  14.62  ...  2388.02  8138.62  8.4195  0.03  392  2388   \n",
       "1  1591.82  1403.14  14.62  ...  2388.07  8131.49  8.4318  0.03  392  2388   \n",
       "2  1587.99  1404.20  14.62  ...  2388.03  8133.23  8.4178  0.03  390  2388   \n",
       "3  1582.79  1401.87  14.62  ...  2388.08  8133.83  8.3682  0.03  392  2388   \n",
       "4  1582.85  1406.22  14.62  ...  2388.04  8133.80  8.4294  0.03  393  2388   \n",
       "\n",
       "     s19    s20      s21  RUL  \n",
       "0  100.0  39.06  23.4190  191  \n",
       "1  100.0  39.00  23.4236  190  \n",
       "2  100.0  38.95  23.3442  189  \n",
       "3  100.0  38.88  23.3739  188  \n",
       "4  100.0  38.90  23.4044  187  \n",
       "\n",
       "[5 rows x 27 columns]"
      ]
     },
     "execution_count": 8,
     "metadata": {},
     "output_type": "execute_result"
    }
   ],
   "source": [
    "# Calculate RUL for each engine in train data\n",
    "rul_train = train.groupby(\"engine_id\")[\"cycle\"].transform(max) - train[\"cycle\"]\n",
    "train[\"RUL\"] = rul_train\n",
    "train.head()\n"
   ]
  },
  {
   "cell_type": "code",
   "execution_count": 9,
   "id": "bf3fc8d5",
   "metadata": {},
   "outputs": [
    {
     "name": "stdout",
     "output_type": "stream",
     "text": [
      "Sequence shape: (17731, 30, 24)\n",
      "Target shape: (17731,)\n"
     ]
    }
   ],
   "source": [
    "def create_sequences(df, window_size=30):\n",
    "    sequences, targets = [], []\n",
    "    engines = df[\"engine_id\"].unique()\n",
    "    \n",
    "    for engine in engines:\n",
    "        engine_data = df[df[\"engine_id\"] == engine].reset_index(drop=True)\n",
    "        features = engine_data.drop([\"engine_id\", \"cycle\", \"RUL\"], axis=1).values\n",
    "        target = engine_data[\"RUL\"].values\n",
    "        \n",
    "        for i in range(len(engine_data) - window_size + 1):\n",
    "            sequences.append(features[i:i+window_size])\n",
    "            targets.append(target[i+window_size-1])\n",
    "    \n",
    "    return np.array(sequences), np.array(targets)\n",
    "\n",
    "X, y = create_sequences(train, window_size=30)\n",
    "print(\"Sequence shape:\", X.shape)\n",
    "print(\"Target shape:\", y.shape)\n"
   ]
  },
  {
   "cell_type": "code",
   "execution_count": 10,
   "id": "3dfb35d6",
   "metadata": {},
   "outputs": [],
   "source": [
    "train.to_csv(r\"C:\\infosys_project\\archive (3)\\CMaps\\train_FD001_preprocessed.csv\", index=False)\n"
   ]
  },
  {
   "cell_type": "code",
   "execution_count": null,
   "id": "417c7929",
   "metadata": {},
   "outputs": [],
   "source": []
  }
 ],
 "metadata": {
  "kernelspec": {
   "display_name": "Python 3",
   "language": "python",
   "name": "python3"
  },
  "language_info": {
   "codemirror_mode": {
    "name": "ipython",
    "version": 3
   },
   "file_extension": ".py",
   "mimetype": "text/x-python",
   "name": "python",
   "nbconvert_exporter": "python",
   "pygments_lexer": "ipython3",
   "version": "3.9.5"
  }
 },
 "nbformat": 4,
 "nbformat_minor": 5
}
